{
 "cells": [
  {
   "cell_type": "markdown",
   "metadata": {},
   "source": [
    "\n",
    "1. shorcut to run --> shift + enter\n",
    "2. For 1st Heading use --> #+space\n",
    "3. For 2nd Heading use --> ##+space\n",
    "4. For 3nd Heading use --> ###+space\n",
    "5. word file shorcuts :\n",
    "6. ctrl + b --> bold text\n",
    "7.  ctrl + i --> italic \n"
   ]
  },
  {
   "cell_type": "markdown",
   "metadata": {},
   "source": [
    "Subject of this Notebook:\\\n",
    "Authored by: Arslan\\\n",
    "where to contact: github link or email\\\n",
    "[github]([github.com/](https://github.com/techsquadron))"
   ]
  },
  {
   "cell_type": "markdown",
   "metadata": {},
   "source": [
    "Code ko seprate krna ka lia ipynb ke file bnti ha"
   ]
  },
  {
   "cell_type": "code",
   "execution_count": null,
   "metadata": {},
   "outputs": [],
   "source": [
    "#code1\n",
    "fruit_basket=\"Mangoes\" , \" Oranges\"\n",
    "print(fruit_basket)"
   ]
  },
  {
   "cell_type": "code",
   "execution_count": null,
   "metadata": {},
   "outputs": [],
   "source": [
    "#code2\n",
    "print = 3+4\n",
    "5+7 # aksr print ke command bhi nhi lgani prti"
   ]
  },
  {
   "cell_type": "code",
   "execution_count": null,
   "metadata": {},
   "outputs": [],
   "source": [
    "#code3\n",
    "print (\"Hello\")"
   ]
  },
  {
   "cell_type": "code",
   "execution_count": 4,
   "metadata": {},
   "outputs": [],
   "source": [
    "samosa=('Alo' , 'Piaz' , 'sabz mirch' , 'keema' , 'meda')"
   ]
  },
  {
   "cell_type": "code",
   "execution_count": null,
   "metadata": {},
   "outputs": [],
   "source": [
    "samosa"
   ]
  }
 ],
 "metadata": {
  "kernelspec": {
   "display_name": "Python 3",
   "language": "python",
   "name": "python3"
  },
  "language_info": {
   "codemirror_mode": {
    "name": "ipython",
    "version": 3
   },
   "file_extension": ".py",
   "mimetype": "text/x-python",
   "name": "python",
   "nbconvert_exporter": "python",
   "pygments_lexer": "ipython3",
   "version": "3.12.1"
  }
 },
 "nbformat": 4,
 "nbformat_minor": 2
}
